{
 "cells": [
  {
   "cell_type": "markdown",
   "id": "intense-third",
   "metadata": {
    "_cell_guid": "b1076dfc-b9ad-4769-8c92-a6c4dae69d19",
    "_uuid": "8f2839f25d086af736a60e9eeb907d3b93b6e0e5",
    "execution": {
     "iopub.execute_input": "2021-06-18T13:28:19.273909Z",
     "iopub.status.busy": "2021-06-18T13:28:19.273551Z",
     "iopub.status.idle": "2021-06-18T13:28:19.860594Z",
     "shell.execute_reply": "2021-06-18T13:28:19.859632Z",
     "shell.execute_reply.started": "2021-06-18T13:28:19.273833Z"
    },
    "papermill": {
     "duration": 0.011808,
     "end_time": "2021-07-08T20:32:53.596690",
     "exception": false,
     "start_time": "2021-07-08T20:32:53.584882",
     "status": "completed"
    },
    "tags": []
   },
   "source": [
    "___\n",
    "___\n",
    "\n",
    "# IoT Firmware Visuals\n",
    "This notebook plots random firmware thumbnail pictures in the visuals folder."
   ]
  },
  {
   "cell_type": "markdown",
   "id": "specific-genome",
   "metadata": {
    "papermill": {
     "duration": 0.010426,
     "end_time": "2021-07-08T20:32:53.618032",
     "exception": false,
     "start_time": "2021-07-08T20:32:53.607606",
     "status": "completed"
    },
    "tags": []
   },
   "source": [
    "## Imports & Installs"
   ]
  },
  {
   "cell_type": "code",
   "execution_count": 1,
   "id": "sublime-preliminary",
   "metadata": {
    "execution": {
     "iopub.execute_input": "2021-07-08T20:32:53.643334Z",
     "iopub.status.busy": "2021-07-08T20:32:53.642289Z",
     "iopub.status.idle": "2021-07-08T20:32:54.282711Z",
     "shell.execute_reply": "2021-07-08T20:32:54.283189Z",
     "shell.execute_reply.started": "2021-07-08T19:26:06.965211Z"
    },
    "papermill": {
     "duration": 0.654759,
     "end_time": "2021-07-08T20:32:54.283520",
     "exception": false,
     "start_time": "2021-07-08T20:32:53.628761",
     "status": "completed"
    },
    "tags": []
   },
   "outputs": [],
   "source": [
    "import pickle as pickles\n",
    "import numpy as np\n",
    "import pandas as pd\n",
    "import skimage.io as io\n",
    "import matplotlib.pyplot as plt\n",
    "\n",
    "from matplotlib import rcParams\n",
    "from skimage.io import collection as coll\n"
   ]
  },
  {
   "cell_type": "markdown",
   "id": "short-dinner",
   "metadata": {
    "papermill": {
     "duration": 0.010564,
     "end_time": "2021-07-08T20:32:54.305144",
     "exception": false,
     "start_time": "2021-07-08T20:32:54.294580",
     "status": "completed"
    },
    "tags": []
   },
   "source": [
    "## Settings & Functions"
   ]
  },
  {
   "cell_type": "code",
   "execution_count": 2,
   "id": "closed-regression",
   "metadata": {
    "execution": {
     "iopub.execute_input": "2021-07-08T20:32:54.332225Z",
     "iopub.status.busy": "2021-07-08T20:32:54.331615Z",
     "iopub.status.idle": "2021-07-08T20:32:54.334266Z",
     "shell.execute_reply": "2021-07-08T20:32:54.333688Z",
     "shell.execute_reply.started": "2021-07-08T19:26:07.562127Z"
    },
    "papermill": {
     "duration": 0.018369,
     "end_time": "2021-07-08T20:32:54.334403",
     "exception": false,
     "start_time": "2021-07-08T20:32:54.316034",
     "status": "completed"
    },
    "tags": []
   },
   "outputs": [],
   "source": [
    "# Set global parameters\n",
    "rcParams['figure.figsize'] = (9, 9)\n",
    "rcParams['figure.facecolor'] = 'whitesmoke'\n",
    "rcParams['figure.titlesize'] = 'x-large'\n",
    "np.random.seed(42)"
   ]
  },
  {
   "cell_type": "code",
   "execution_count": 3,
   "id": "known-charge",
   "metadata": {
    "execution": {
     "iopub.execute_input": "2021-07-08T20:32:54.359789Z",
     "iopub.status.busy": "2021-07-08T20:32:54.359143Z",
     "iopub.status.idle": "2021-07-08T20:32:54.365131Z",
     "shell.execute_reply": "2021-07-08T20:32:54.365669Z",
     "shell.execute_reply.started": "2021-07-08T19:26:07.569710Z"
    },
    "papermill": {
     "duration": 0.020361,
     "end_time": "2021-07-08T20:32:54.365843",
     "exception": false,
     "start_time": "2021-07-08T20:32:54.345482",
     "status": "completed"
    },
    "tags": []
   },
   "outputs": [],
   "source": [
    "# Create a class with pic processing methods\n",
    "class picWrangler:\n",
    "    # Function to get picture paths\n",
    "    def picPath(self, p):\n",
    "        paths = coll.glob(p)\n",
    "        return paths\n",
    "    \n",
    "    # Pic plotting function\n",
    "    def picPlot(self, pic, title = 'Sample'):\n",
    "        plt.figure(figsize = (7, 7))\n",
    "        plt.imshow(pic, cmap = 'gray')\n",
    "        plt.axis('off')\n",
    "        plt.title(title)\n",
    "\n",
    "    # Function for loading images\n",
    "    def picLoader(self, f, shape = (32, 32)):\n",
    "        pic = io.imread(f).astype(np.float64)\n",
    "        if np.shape(pic) == shape:\n",
    "            return pic\n",
    "        else:\n",
    "            return np.resize(pic, shape)\n",
    "\n",
    "# Instantiate the class\n",
    "wrangler = picWrangler()"
   ]
  },
  {
   "cell_type": "markdown",
   "id": "periodic-external",
   "metadata": {
    "papermill": {
     "duration": 0.010732,
     "end_time": "2021-07-08T20:32:54.387725",
     "exception": false,
     "start_time": "2021-07-08T20:32:54.376993",
     "status": "completed"
    },
    "tags": []
   },
   "source": [
    "---\n",
    "## Load Images"
   ]
  },
  {
   "cell_type": "code",
   "execution_count": 4,
   "id": "monthly-joseph",
   "metadata": {
    "execution": {
     "iopub.execute_input": "2021-07-08T20:32:54.412515Z",
     "iopub.status.busy": "2021-07-08T20:32:54.411888Z",
     "iopub.status.idle": "2021-07-08T20:32:54.426765Z",
     "shell.execute_reply": "2021-07-08T20:32:54.426189Z",
     "shell.execute_reply.started": "2021-07-08T19:26:07.583606Z"
    },
    "papermill": {
     "duration": 0.02825,
     "end_time": "2021-07-08T20:32:54.426903",
     "exception": false,
     "start_time": "2021-07-08T20:32:54.398653",
     "status": "completed"
    },
    "tags": []
   },
   "outputs": [
    {
     "name": "stdout",
     "output_type": "stream",
     "text": [
      "\n",
      "Classes:\n",
      "    ['hackware', 'gray', 'benignware', 'malware']\n"
     ]
    }
   ],
   "source": [
    "# Get path to image folders\n",
    "path = '../input/iot-firmware-image-classification/imagery/'\n",
    "paths = wrangler.picPath(path + '*')\n",
    "\n",
    "# Get class names from image folders\n",
    "classes = [pth.split('/')[-1] for pth in paths]\n",
    "\n",
    "print(f'\\nClasses:\\n    {classes}')"
   ]
  },
  {
   "cell_type": "code",
   "execution_count": 5,
   "id": "balanced-panic",
   "metadata": {
    "execution": {
     "iopub.execute_input": "2021-07-08T20:32:54.455241Z",
     "iopub.status.busy": "2021-07-08T20:32:54.454636Z",
     "iopub.status.idle": "2021-07-08T20:32:54.730797Z",
     "shell.execute_reply": "2021-07-08T20:32:54.731200Z",
     "shell.execute_reply.started": "2021-07-08T19:26:07.607841Z"
    },
    "papermill": {
     "duration": 0.292926,
     "end_time": "2021-07-08T20:32:54.731418",
     "exception": false,
     "start_time": "2021-07-08T20:32:54.438492",
     "status": "completed"
    },
    "tags": []
   },
   "outputs": [
    {
     "data": {
      "text/plain": [
       "{'hackware': <skimage.io.collection.ImageCollection at 0x7f4fe6c08650>,\n",
       " 'gray': <skimage.io.collection.ImageCollection at 0x7f4fe6c050d0>,\n",
       " 'benignware': <skimage.io.collection.ImageCollection at 0x7f4fd988c890>,\n",
       " 'malware': <skimage.io.collection.ImageCollection at 0x7f4fd991fc10>}"
      ]
     },
     "execution_count": 5,
     "metadata": {},
     "output_type": "execute_result"
    }
   ],
   "source": [
    "# Associate names and picture collections\n",
    "im_colls = {}\n",
    "for clss in classes:\n",
    "    im_colls[clss] = coll.ImageCollection(path + str(clss) + '/*', \n",
    "                                    load_func = wrangler.picLoader)\n",
    "\n",
    "with open('image_collections', 'wb') as f:\n",
    "    pickles.dump(im_colls, f)\n",
    "    f.close()\n",
    "\n",
    "im_colls"
   ]
  },
  {
   "cell_type": "code",
   "execution_count": 6,
   "id": "continent-holder",
   "metadata": {
    "execution": {
     "iopub.execute_input": "2021-07-08T20:32:54.759303Z",
     "iopub.status.busy": "2021-07-08T20:32:54.758674Z",
     "iopub.status.idle": "2021-07-08T20:32:54.790151Z",
     "shell.execute_reply": "2021-07-08T20:32:54.790661Z",
     "shell.execute_reply.started": "2021-07-08T19:26:08.297769Z"
    },
    "papermill": {
     "duration": 0.048123,
     "end_time": "2021-07-08T20:32:54.790842",
     "exception": false,
     "start_time": "2021-07-08T20:32:54.742719",
     "status": "completed"
    },
    "tags": []
   },
   "outputs": [
    {
     "name": "stdout",
     "output_type": "stream",
     "text": [
      "Classes & Picture Shapes:\n",
      "\n",
      "    hackware ---> (32, 32)\n",
      "    gray ---> (32, 32)\n",
      "    benignware ---> (32, 32)\n",
      "    malware ---> (32, 32)\n"
     ]
    }
   ],
   "source": [
    "# Find the pic shapes\n",
    "print('Classes & Picture Shapes:\\n')\n",
    "for clss in classes:\n",
    "    idx = np.random.randint(100)\n",
    "    print(f'    {clss} ---> {np.shape(im_colls[clss][idx])}')\n"
   ]
  },
  {
   "cell_type": "markdown",
   "id": "cardiac-tooth",
   "metadata": {
    "papermill": {
     "duration": 0.01119,
     "end_time": "2021-07-08T20:32:54.813637",
     "exception": false,
     "start_time": "2021-07-08T20:32:54.802447",
     "status": "completed"
    },
    "tags": []
   },
   "source": [
    "---\n",
    "# View Images"
   ]
  },
  {
   "cell_type": "code",
   "execution_count": 7,
   "id": "impossible-texture",
   "metadata": {
    "execution": {
     "iopub.execute_input": "2021-07-08T20:32:54.841783Z",
     "iopub.status.busy": "2021-07-08T20:32:54.841117Z",
     "iopub.status.idle": "2021-07-08T20:32:55.152692Z",
     "shell.execute_reply": "2021-07-08T20:32:55.152107Z",
     "shell.execute_reply.started": "2021-07-08T19:26:08.346194Z"
    },
    "papermill": {
     "duration": 0.327623,
     "end_time": "2021-07-08T20:32:55.152862",
     "exception": false,
     "start_time": "2021-07-08T20:32:54.825239",
     "status": "completed"
    },
    "tags": []
   },
   "outputs": [
    {
     "data": {
      "image/png": "[encoded data removed]",
      "text/plain": [
       "<Figure size 504x504 with 1 Axes>"
      ]
     },
     "metadata": {},
     "output_type": "display_data"
    },
    {
     "data": {
      "image/png": "[encoded data removed]",
      "text/plain": [
       "<Figure size 504x504 with 1 Axes>"
      ]
     },
     "metadata": {},
     "output_type": "display_data"
    },
    {
     "data": {
      "image/png": "[encoded data removed]",
      "text/plain": [
       "<Figure size 504x504 with 1 Axes>"
      ]
     },
     "metadata": {},
     "output_type": "display_data"
    },
    {
     "data": {
      "image/png": "[encoded data removed]",
      "text/plain": [
       "<Figure size 504x504 with 1 Axes>"
      ]
     },
     "metadata": {},
     "output_type": "display_data"
    }
   ],
   "source": [
    "# Random sample pictures from each class\n",
    "for clss in classes:\n",
    "    wrangler.picPlot(im_colls[clss][np.random.randint(100)], \n",
    "                     title = clss)\n",
    "    "
   ]
  },
  {
   "cell_type": "markdown",
   "id": "separated-bhutan",
   "metadata": {
    "papermill": {
     "duration": 0.01336,
     "end_time": "2021-07-08T20:32:55.180318",
     "exception": false,
     "start_time": "2021-07-08T20:32:55.166958",
     "status": "completed"
    },
    "tags": []
   },
   "source": [
    "## Multiple Plots"
   ]
  },
  {
   "cell_type": "code",
   "execution_count": 8,
   "id": "instructional-costa",
   "metadata": {
    "execution": {
     "iopub.execute_input": "2021-07-08T20:32:55.235718Z",
     "iopub.status.busy": "2021-07-08T20:32:55.230829Z",
     "iopub.status.idle": "2021-07-08T20:32:55.389209Z",
     "shell.execute_reply": "2021-07-08T20:32:55.388718Z",
     "shell.execute_reply.started": "2021-07-08T19:26:08.678461Z"
    },
    "papermill": {
     "duration": 0.195336,
     "end_time": "2021-07-08T20:32:55.389365",
     "exception": false,
     "start_time": "2021-07-08T20:32:55.194029",
     "status": "completed"
    },
    "tags": []
   },
   "outputs": [
    {
     "data": {
      "image/png": "[encoded data removed]",
      "text/plain": [
       "<Figure size 648x648 with 4 Axes>"
      ]
     },
     "metadata": {},
     "output_type": "display_data"
    }
   ],
   "source": [
    "fig, (ax0, ax1) = plt.subplots(2, 2)\n",
    "fig.tight_layout = True\n",
    "plt.suptitle('IoT Firmware Visualizations')\n",
    "ax0[0].imshow(im_colls[classes[0]][np.random.randint(100)], cmap = 'gray')\n",
    "ax0[0].set_title(classes[0].capitalize())\n",
    "ax0[0].axis('off')\n",
    "ax0[1].imshow(im_colls[classes[1]][np.random.randint(100)], cmap = 'gray')\n",
    "ax0[1].set_title(classes[1].capitalize())\n",
    "ax0[1].axis('off')\n",
    "ax1[0].imshow(im_colls[classes[2]][np.random.randint(100)], cmap = 'gray')\n",
    "ax1[0].set_title(classes[2].capitalize())\n",
    "ax1[0].axis('off')\n",
    "ax1[1].imshow(im_colls[classes[3]][np.random.randint(100)], cmap = 'gray')\n",
    "ax1[1].set_title(classes[3].capitalize())\n",
    "ax1[1].axis('off')\n",
    "_ = plt.show()"
   ]
  },
  {
   "cell_type": "code",
   "execution_count": 9,
   "id": "special-comparative",
   "metadata": {
    "execution": {
     "iopub.execute_input": "2021-07-08T20:32:55.440271Z",
     "iopub.status.busy": "2021-07-08T20:32:55.439241Z",
     "iopub.status.idle": "2021-07-08T20:32:56.259042Z",
     "shell.execute_reply": "2021-07-08T20:32:56.258467Z",
     "shell.execute_reply.started": "2021-07-08T19:26:08.905903Z"
    },
    "papermill": {
     "duration": 0.854984,
     "end_time": "2021-07-08T20:32:56.259177",
     "exception": false,
     "start_time": "2021-07-08T20:32:55.404193",
     "status": "completed"
    },
    "tags": []
   },
   "outputs": [
    {
     "data": {
      "image/png": "[encoded data removed]",
      "text/plain": [
       "<Figure size 648x648 with 20 Axes>"
      ]
     },
     "metadata": {},
     "output_type": "display_data"
    }
   ],
   "source": [
    "fig = plt.figure(tight_layout = True)\n",
    "fig.suptitle('Random Examples')\n",
    "j = 0\n",
    "\n",
    "for i in range(20):\n",
    "    if i == 5 or i == 10 or i == 15:\n",
    "        j +=1\n",
    "    clss = classes[j]\n",
    "    idx = np.random.randint(100)\n",
    "    plt.subplot(4, 5, i + 1)\n",
    "    plt.imshow(im_colls[clss][idx], cmap = 'gray')\n",
    "    if (i == 2 or i == 7) or (i == 12 or i == 17):\n",
    "        plt.title(clss)\n",
    "    plt.axis('off')\n"
   ]
  },
  {
   "cell_type": "markdown",
   "id": "geographic-subsection",
   "metadata": {
    "papermill": {
     "duration": 0.015907,
     "end_time": "2021-07-08T20:32:56.291663",
     "exception": false,
     "start_time": "2021-07-08T20:32:56.275756",
     "status": "completed"
    },
    "tags": []
   },
   "source": [
    "---\n",
    "# Image Formatting for Export"
   ]
  },
  {
   "cell_type": "code",
   "execution_count": 10,
   "id": "liquid-sucking",
   "metadata": {
    "execution": {
     "iopub.execute_input": "2021-07-08T20:32:56.330898Z",
     "iopub.status.busy": "2021-07-08T20:32:56.330209Z",
     "iopub.status.idle": "2021-07-08T20:46:08.991822Z",
     "shell.execute_reply": "2021-07-08T20:46:08.991230Z",
     "shell.execute_reply.started": "2021-07-08T20:11:47.607432Z"
    },
    "papermill": {
     "duration": 792.684146,
     "end_time": "2021-07-08T20:46:08.992000",
     "exception": false,
     "start_time": "2021-07-08T20:32:56.307854",
     "status": "completed"
    },
    "tags": []
   },
   "outputs": [],
   "source": [
    "imagesDF = pd.DataFrame()\n",
    "\n",
    "for cls in im_colls:\n",
    "    for pic in im_colls[cls]:\n",
    "        unrolled = np.ravel(pic)\n",
    "        unrolled = np.append(cls, unrolled)\n",
    "        df = pd.DataFrame(unrolled)\n",
    "        df = df.T\n",
    "        imagesDF = pd.concat([imagesDF, df], axis = 0, ignore_index = True)"
   ]
  },
  {
   "cell_type": "code",
   "execution_count": 11,
   "id": "disturbed-somalia",
   "metadata": {
    "execution": {
     "iopub.execute_input": "2021-07-08T20:46:09.029506Z",
     "iopub.status.busy": "2021-07-08T20:46:09.028852Z",
     "iopub.status.idle": "2021-07-08T20:46:10.250355Z",
     "shell.execute_reply": "2021-07-08T20:46:10.249830Z",
     "shell.execute_reply.started": "2021-07-08T20:32:10.423257Z"
    },
    "papermill": {
     "duration": 1.241771,
     "end_time": "2021-07-08T20:46:10.250507",
     "exception": false,
     "start_time": "2021-07-08T20:46:09.008736",
     "status": "completed"
    },
    "tags": []
   },
   "outputs": [],
   "source": [
    "imagesDF.to_csv('imagesDF.csv')"
   ]
  },
  {
   "cell_type": "markdown",
   "id": "viral-immunology",
   "metadata": {
    "papermill": {
     "duration": 0.01563,
     "end_time": "2021-07-08T20:46:10.282438",
     "exception": false,
     "start_time": "2021-07-08T20:46:10.266808",
     "status": "completed"
    },
    "tags": []
   },
   "source": [
    "---\n",
    "\n",
    "# Conclusions\n",
    "\n",
    "* Images are (32, 32) grayscale thumbnails\n",
    " * class gray images must be resized to match the others\n",
    "* benignware can be visually disernable\n",
    " * some examples look like hackware or malware\n",
    "* hackware and malware look very similar\n",
    " * some examples look like benignware"
   ]
  },
  {
   "cell_type": "markdown",
   "id": "expanded-footwear",
   "metadata": {
    "papermill": {
     "duration": 0.016066,
     "end_time": "2021-07-08T20:46:10.314522",
     "exception": false,
     "start_time": "2021-07-08T20:46:10.298456",
     "status": "completed"
    },
    "tags": []
   },
   "source": [
    "## Next Steps\n",
    "* Exploratory Data Anlysis\n",
    "* Pycaret model comparison\n",
    "* Convolutional Neural Network (CNN) evaluation\n",
    "\n",
    "---\n",
    "---"
   ]
  }
 ],
 "metadata": {
  "kernelspec": {
   "display_name": "Python 3",
   "language": "python",
   "name": "python3"
  },
  "language_info": {
   "codemirror_mode": {
    "name": "ipython",
    "version": 3
   },
   "file_extension": ".py",
   "mimetype": "text/x-python",
   "name": "python",
   "nbconvert_exporter": "python",
   "pygments_lexer": "ipython3",
   "version": "3.7.10"
  },
  "papermill": {
   "default_parameters": {},
   "duration": 806.146286,
   "end_time": "2021-07-08T20:46:12.315430",
   "environment_variables": {},
   "exception": null,
   "input_path": "__notebook__.ipynb",
   "output_path": "__notebook__.ipynb",
   "parameters": {},
   "start_time": "2021-07-08T20:32:46.169144",
   "version": "2.3.3"
  }
 },
 "nbformat": 4,
 "nbformat_minor": 5
}
